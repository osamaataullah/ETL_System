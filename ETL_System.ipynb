{
  "nbformat": 4,
  "nbformat_minor": 0,
  "metadata": {
    "colab": {
      "provenance": []
    },
    "kernelspec": {
      "name": "python3",
      "display_name": "Python 3"
    },
    "language_info": {
      "name": "python"
    }
  },
  "cells": [
    {
      "cell_type": "code",
      "source": [
        "# Importing the required libraries\n",
        "import pandas as pd\n",
        "import numpy as np\n",
        "from bs4 import BeautifulSoup\n",
        "import requests\n",
        "import sqlite3\n",
        "from datetime import datetime"
      ],
      "metadata": {
        "id": "P_AMP65wKajT"
      },
      "execution_count": null,
      "outputs": []
    },
    {
      "cell_type": "code",
      "source": [
        "#download exchange rate file\n",
        "import requests\n",
        "\n",
        "url = \"https://cf-courses-data.s3.us.cloud-object-storage.appdomain.cloud/IBMSkillsNetwork-PY0221EN-Coursera/labs/v2/exchange_rate.csv\"\n",
        "response = requests.get(url)\n",
        "\n",
        "with open(\"exchange_rate.csv\", \"wb\") as file:\n",
        "    file.write(response.content)\n",
        "\n",
        "print(\"File downloaded successfully.\")\n"
      ],
      "metadata": {
        "colab": {
          "base_uri": "https://localhost:8080/"
        },
        "id": "tbs9T81dENkS",
        "outputId": "cd95c55a-b02a-4aa8-be2c-d84348bf7567"
      },
      "execution_count": null,
      "outputs": [
        {
          "output_type": "stream",
          "name": "stdout",
          "text": [
            "File downloaded successfully.\n"
          ]
        }
      ]
    },
    {
      "cell_type": "code",
      "source": [
        "er_csv = pd.read_csv('/content/exchange_rate.csv')\n",
        "\n",
        "exchange_rate = er_csv.set_index('Currency').to_dict()['Rate']\n",
        "exchange_rate"
      ],
      "metadata": {
        "colab": {
          "base_uri": "https://localhost:8080/"
        },
        "id": "Ko3oQ6aiOQ4_",
        "outputId": "f63ce8fd-1e99-41d1-cc18-e2e1553e72b8"
      },
      "execution_count": null,
      "outputs": [
        {
          "output_type": "execute_result",
          "data": {
            "text/plain": [
              "{'EUR': 0.93, 'GBP': 0.8, 'INR': 82.95}"
            ]
          },
          "metadata": {},
          "execution_count": 20
        }
      ]
    },
    {
      "cell_type": "code",
      "execution_count": null,
      "metadata": {
        "id": "mGNBh1gRKPaa"
      },
      "outputs": [],
      "source": [
        "# Code for ETL operations on Country-GDP data\n",
        "\n",
        "def log_progress(message):\n",
        "    ''' This function logs the mentioned message of a given stage of the\n",
        "    code execution to a log file. Function returns nothing'''\n",
        "    timestamp_format = '%Y-%h-%d-%H:%M:%S' # Year-Monthname-Day-Hour-Minute-Second\n",
        "    now = datetime.now() # get current timestamp\n",
        "    timestamp = now.strftime(timestamp_format) #format datetime 'now'\n",
        "    with open(\"./code_log.txt\",\"a\") as f:\n",
        "        f.write(timestamp + ' : ' + message + '\\n')\n",
        "\n",
        "\n",
        "def extract(url, table_attribs):\n",
        "    ''' This function aims to extract the required\n",
        "    information from the website and save it to a data frame. The\n",
        "    function returns the data frame for further processing. '''\n",
        "    page = requests.get(url).text\n",
        "    data = BeautifulSoup(page, 'html.parser')\n",
        "    df = pd.DataFrame(columns = table_attribs)\n",
        "    tables = data.find_all('tbody')\n",
        "    rows = tables[0].find_all('tr')\n",
        "    for row in rows:\n",
        "      col = row.find_all('td')\n",
        "      if len(col) != 0:\n",
        "        mcap = str(col[2].contents[0]) # this is market cap\n",
        "        mcap = float(mcap[0:len(mcap)])\n",
        "        links = col[1].find_all('a')\n",
        "        # print(links[1].contents[0])\n",
        "        # print(col[2].contents[0])\n",
        "        data_dict = {\"Name\": links[1].contents[0], \"MC_USD_Billion\": mcap }\n",
        "        df1 = pd.DataFrame(data_dict, index=[0])\n",
        "        df = pd.concat([df,df1], ignore_index=True)\n",
        "    df.to_csv('Largest_banks_data.csv')\n",
        "    return df\n",
        "\n",
        "\n",
        "def transform(df, csv_path):\n",
        "    ''' This function accesses the CSV file for exchange rate\n",
        "    information, and adds three columns to the data frame, each\n",
        "    containing the transformed version of Market Cap column to\n",
        "    respective currencies'''\n",
        "    df['MC_GBP_Billion'] = [np.round(x*exchange_rate['EUR'],2) for x in df['MC_USD_Billion']]\n",
        "    df['MC_EUR_Billion'] = [np.round(x*exchange_rate['GBP'],2) for x in df['MC_USD_Billion']]\n",
        "    df['MC_INR_Billion'] = [np.round(x*exchange_rate['INR'],2) for x in df['MC_USD_Billion']]\n",
        "    # df.to_csv('Largest_banks_data.csv')\n",
        "    print(df)\n",
        "    return df\n",
        "\n",
        "def load_to_csv(df, output_path):\n",
        "    ''' This function saves the final data frame as a CSV file in\n",
        "    the provided path. Function returns nothing.'''\n",
        "    df.to_csv(output_path)\n",
        "    # df.to_csv('Largest_banks_data.csv')\n",
        "\n",
        "\n",
        "def load_to_db(df, sql_connection, table_name):\n",
        "    ''' This function saves the final data frame to a database\n",
        "    table with the provided name. Function returns nothing.'''\n",
        "    df.to_sql(table_name, sql_connection, if_exists='replace', index=False)\n",
        "\n",
        "\n",
        "def run_query(query_statement, sql_connection):\n",
        "    ''' This function runs the query on the database table and\n",
        "    prints the output on the terminal. Function returns nothing. '''\n",
        "    print(query_statement)\n",
        "    query_output = pd.read_sql(query_statement, sql_connection)\n",
        "    print(query_output)\n",
        "\n",
        "''' Here, you define the required entities and call the relevant\n",
        "functions in the correct order to complete the project. Note that this\n",
        "portion is not inside any function.'''\n",
        "\n",
        "url = 'https://web.archive.org/web/20230908091635%20/https://en.wikipedia.org/wiki/List_of_largest_banks'\n",
        "table_attribs = ['Name', 'MC_USD_Billion']\n",
        "db_name = 'World_Economies.db'\n",
        "table_name = 'Largest_banks'\n",
        "csv_path = '/content/Largest_banks_data.csv'\n",
        "output_path = './Largest_banks_data.csv'\n",
        "log_progress(\"Preliminaries complete. Initiating ETL process\")\n"
      ]
    },
    {
      "cell_type": "code",
      "source": [
        "extract(url, table_attribs)\n",
        "log_progress(\"Data extraction complete. Initiating Transformation process\")"
      ],
      "metadata": {
        "colab": {
          "base_uri": "https://localhost:8080/"
        },
        "id": "MjaYvjZkVwZX",
        "outputId": "45ea4353-e8a1-411e-9a0a-bfe7426ce79e"
      },
      "execution_count": null,
      "outputs": [
        {
          "output_type": "stream",
          "name": "stderr",
          "text": [
            "<ipython-input-21-50b28a898d79>:32: FutureWarning: The behavior of DataFrame concatenation with empty or all-NA entries is deprecated. In a future version, this will no longer exclude empty or all-NA columns when determining the result dtypes. To retain the old behavior, exclude the relevant entries before the concat operation.\n",
            "  df = pd.concat([df,df1], ignore_index=True)\n"
          ]
        }
      ]
    },
    {
      "cell_type": "code",
      "source": [
        "df = pd.read_csv(csv_path)\n",
        "\n",
        "transform(df, csv_path)\n",
        "log_progress(\"Data transformation complete. Initiating Loading process\")\n",
        "\n",
        "load_to_csv(df, output_path)\n",
        "log_progress(\"Data saved to CSV file\")"
      ],
      "metadata": {
        "colab": {
          "base_uri": "https://localhost:8080/"
        },
        "id": "IW2D0OVZV9BQ",
        "outputId": "bda10bfa-69c2-422b-df47-d2123715f8da"
      },
      "execution_count": null,
      "outputs": [
        {
          "output_type": "stream",
          "name": "stdout",
          "text": [
            "   Unnamed: 0                                     Name  MC_USD_Billion  \\\n",
            "0           0                           JPMorgan Chase          432.92   \n",
            "1           1                          Bank of America          231.52   \n",
            "2           2  Industrial and Commercial Bank of China          194.56   \n",
            "3           3               Agricultural Bank of China          160.68   \n",
            "4           4                                HDFC Bank          157.91   \n",
            "5           5                              Wells Fargo          155.87   \n",
            "6           6                        HSBC Holdings PLC          148.90   \n",
            "7           7                           Morgan Stanley          140.83   \n",
            "8           8                  China Construction Bank          139.82   \n",
            "9           9                            Bank of China          136.81   \n",
            "\n",
            "   MC_GBP_Billion  MC_EUR_Billion  MC_INR_Billion  \n",
            "0          402.62          346.34        35910.71  \n",
            "1          215.31          185.22        19204.58  \n",
            "2          180.94          155.65        16138.75  \n",
            "3          149.43          128.54        13328.41  \n",
            "4          146.86          126.33        13098.63  \n",
            "5          144.96          124.70        12929.42  \n",
            "6          138.48          119.12        12351.26  \n",
            "7          130.97          112.66        11681.85  \n",
            "8          130.03          111.86        11598.07  \n",
            "9          127.23          109.45        11348.39  \n"
          ]
        }
      ]
    },
    {
      "cell_type": "code",
      "source": [
        "sql_connection = sqlite3.connect('Banks.db')\n",
        "log_progress(\"SQL Connection initiated\")\n",
        "\n",
        "load_to_db(df, sql_connection, table_name)\n",
        "log_progress(\"Data loaded to Database as a table, Executing queries\")\n",
        "\n",
        "query_statement = f\"SELECT * FROM Largest_banks\"\n",
        "run_query(query_statement, sql_connection)\n",
        "\n",
        "query_statement = f\"SELECT AVG(MC_GBP_Billion) FROM Largest_banks\"\n",
        "run_query(query_statement, sql_connection)\n",
        "\n",
        "query_statement = f\"SELECT Name from Largest_banks LIMIT 5\"\n",
        "run_query(query_statement, sql_connection)\n",
        "\n",
        "log_progress(\"Process Complete\")\n",
        "\n",
        "sql_connection.close()\n",
        "log_progress(\"Server Connection closed\")"
      ],
      "metadata": {
        "colab": {
          "base_uri": "https://localhost:8080/"
        },
        "id": "A_2kTBCWWaht",
        "outputId": "83629e8f-33a3-440c-87ec-3efbac5c3d7f"
      },
      "execution_count": null,
      "outputs": [
        {
          "output_type": "stream",
          "name": "stdout",
          "text": [
            "SELECT * FROM Largest_banks\n",
            "   Unnamed: 0                                     Name  MC_USD_Billion  \\\n",
            "0           0                           JPMorgan Chase          432.92   \n",
            "1           1                          Bank of America          231.52   \n",
            "2           2  Industrial and Commercial Bank of China          194.56   \n",
            "3           3               Agricultural Bank of China          160.68   \n",
            "4           4                                HDFC Bank          157.91   \n",
            "5           5                              Wells Fargo          155.87   \n",
            "6           6                        HSBC Holdings PLC          148.90   \n",
            "7           7                           Morgan Stanley          140.83   \n",
            "8           8                  China Construction Bank          139.82   \n",
            "9           9                            Bank of China          136.81   \n",
            "\n",
            "   MC_GBP_Billion  MC_EUR_Billion  MC_INR_Billion  \n",
            "0          402.62          346.34        35910.71  \n",
            "1          215.31          185.22        19204.58  \n",
            "2          180.94          155.65        16138.75  \n",
            "3          149.43          128.54        13328.41  \n",
            "4          146.86          126.33        13098.63  \n",
            "5          144.96          124.70        12929.42  \n",
            "6          138.48          119.12        12351.26  \n",
            "7          130.97          112.66        11681.85  \n",
            "8          130.03          111.86        11598.07  \n",
            "9          127.23          109.45        11348.39  \n",
            "SELECT AVG(MC_GBP_Billion) FROM Largest_banks\n",
            "   AVG(MC_GBP_Billion)\n",
            "0              176.683\n",
            "SELECT Name from Largest_banks LIMIT 5\n",
            "                                      Name\n",
            "0                           JPMorgan Chase\n",
            "1                          Bank of America\n",
            "2  Industrial and Commercial Bank of China\n",
            "3               Agricultural Bank of China\n",
            "4                                HDFC Bank\n"
          ]
        }
      ]
    }
  ]
}